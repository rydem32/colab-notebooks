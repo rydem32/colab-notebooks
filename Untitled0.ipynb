{
  "nbformat": 4,
  "nbformat_minor": 0,
  "metadata": {
    "colab": {
      "name": "Untitled0.ipynb",
      "provenance": [],
      "authorship_tag": "ABX9TyNupaPn8vHeyfhCqEfKKzwT",
      "include_colab_link": true
    },
    "kernelspec": {
      "name": "python3",
      "display_name": "Python 3"
    },
    "language_info": {
      "name": "python"
    }
  },
  "cells": [
    {
      "cell_type": "markdown",
      "metadata": {
        "id": "view-in-github",
        "colab_type": "text"
      },
      "source": [
        "<a href=\"https://colab.research.google.com/github/rydem32/colab-notebooks/blob/main/Untitled0.ipynb\" target=\"_parent\"><img src=\"https://colab.research.google.com/assets/colab-badge.svg\" alt=\"Open In Colab\"/></a>"
      ]
    },
    {
      "cell_type": "code",
      "metadata": {
        "id": "ArWyQ8dkDsq9"
      },
      "source": [
        "#this is example python code\n",
        "#the line starting with a hashtag are comments\n",
        "#do not confuse this with .md files, this is a .py file\n",
        "\n",
        "print (\"Hello World!\")\n",
        "\n",
        "x=2+2\n",
        "print (x)\n"
      ],
      "execution_count": null,
      "outputs": []
    }
  ]
}